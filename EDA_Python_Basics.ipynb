{
  "cells": [
    {
      "cell_type": "code",
      "execution_count": 5,
      "metadata": {
        "colab": {
          "base_uri": "https://localhost:8080/"
        },
        "id": "xLacLh3BFq2J",
        "outputId": "8f7babfb-9a38-4507-d8e7-cb910f167f14"
      },
      "outputs": [
        {
          "name": "stdout",
          "output_type": "stream",
          "text": [
            "10 3.14 Alice True\n"
          ]
        }
      ],
      "source": [
        "# Variables and Data Types\n",
        "x = 10                  # Integer\n",
        "y = 3.14                # Float\n",
        "name = \"Alice\"          # String\n",
        "is_student = True       # Boolean\n",
        "\n",
        "print(x, y, name, is_student)\n"
      ]
    },
    {
      "cell_type": "code",
      "execution_count": 6,
      "metadata": {
        "colab": {
          "base_uri": "https://localhost:8080/"
        },
        "id": "mwOw7nPXF1s3",
        "outputId": "eb349db6-2c86-4232-a498-2190bd4a0aa7"
      },
      "outputs": [
        {
          "name": "stdout",
          "output_type": "stream",
          "text": [
            "Sum: 8\n",
            "Difference: 2\n",
            "Product: 15\n",
            "Quotient: 1.6666666666666667\n",
            "Floor Division: 1\n",
            "Modulo: 2\n",
            "Exponentiation: 125\n"
          ]
        }
      ],
      "source": [
        "# Basic Operations\n",
        "a = 5\n",
        "b = 3\n",
        "\n",
        "# Arithmetic operations\n",
        "sum_ab = a + b\n",
        "diff_ab = a - b\n",
        "prod_ab = a * b\n",
        "quot_ab = a / b\n",
        "floor_div_ab = a // b\n",
        "mod_ab = a % b\n",
        "exp_ab = a ** b\n",
        "\n",
        "print(\"Sum:\", sum_ab)\n",
        "print(\"Difference:\", diff_ab)\n",
        "print(\"Product:\", prod_ab)\n",
        "print(\"Quotient:\", quot_ab)\n",
        "print(\"Floor Division:\", floor_div_ab)\n",
        "print(\"Modulo:\", mod_ab)\n",
        "print(\"Exponentiation:\", exp_ab)\n"
      ]
    },
    {
      "cell_type": "code",
      "execution_count": 7,
      "metadata": {
        "colab": {
          "base_uri": "https://localhost:8080/"
        },
        "id": "jQIDXYnUF7VU",
        "outputId": "9496771e-6aca-46a2-8d0b-e409249043b7"
      },
      "outputs": [
        {
          "name": "stdout",
          "output_type": "stream",
          "text": [
            "Adult\n",
            "0\n",
            "1\n",
            "2\n",
            "3\n",
            "4\n",
            "0\n",
            "1\n",
            "2\n",
            "3\n",
            "4\n"
          ]
        }
      ],
      "source": [
        "# Control Flow\n",
        "\n",
        "# if-else statement\n",
        "age = 20\n",
        "if age < 18:\n",
        "    print(\"Minor\")\n",
        "else:\n",
        "    print(\"Adult\")\n",
        "\n",
        "# for loop\n",
        "for i in range(5):\n",
        "    print(i)\n",
        "\n",
        "# while loop\n",
        "count = 0\n",
        "while count < 5:\n",
        "    print(count)\n",
        "    count += 1\n"
      ]
    },
    {
      "cell_type": "markdown",
      "metadata": {
        "id": "XaU6bFmFGHVl"
      },
      "source": [
        "In Python, data structures are essential for organizing and storing data efficiently. Here’s an overview of the most commonly used data structures:\n",
        "\n",
        "**Lists:**\n",
        "\n",
        "Description: Ordered, mutable collections of items. Lists can contain elements of different types and allow duplicate values."
      ]
    },
    {
      "cell_type": "code",
      "execution_count": 10,
      "metadata": {
        "colab": {
          "base_uri": "https://localhost:8080/"
        },
        "id": "480t66F-F-Vo",
        "outputId": "1f30ab12-b6a1-4f55-d1db-e8e326b8fe14"
      },
      "outputs": [
        {
          "name": "stdout",
          "output_type": "stream",
          "text": [
            "apple\n",
            "['apple', 'blueberry', 'cherry']\n",
            "['apple', 'blueberry', 'cherry', 'orange']\n",
            "['apple', 'blueberry', 'orange']\n"
          ]
        }
      ],
      "source": [
        "# Lists\n",
        "fruits = [\"apple\", \"banana\", \"cherry\"]\n",
        "\n",
        "# Accessing elements\n",
        "print(fruits[0])\n",
        "\n",
        "# Modifying elements\n",
        "fruits[1] = \"blueberry\"\n",
        "print(fruits)\n",
        "\n",
        "# List operations\n",
        "fruits.append(\"orange\")\n",
        "print(fruits)\n",
        "fruits.remove(\"cherry\")\n",
        "print(fruits)\n"
      ]
    },
    {
      "cell_type": "code",
      "execution_count": 11,
      "metadata": {
        "colab": {
          "base_uri": "https://localhost:8080/"
        },
        "id": "MxZjW5ZuGwaX",
        "outputId": "5b8e566a-b922-4844-a675-14e1523eac7d"
      },
      "outputs": [
        {
          "name": "stdout",
          "output_type": "stream",
          "text": [
            "['apple', 'blueberry', 'orange', 'mango', 'grape']\n",
            "['apple', 'orange', 'blueberry', 'orange', 'mango', 'grape']\n",
            "['apple', 'blueberry', 'orange', 'mango', 'grape']\n"
          ]
        }
      ],
      "source": [
        "# Extending the list with another list\n",
        "more_fruits = [\"mango\", \"grape\"]\n",
        "fruits.extend(more_fruits)\n",
        "print(fruits)\n",
        "\n",
        "# Inserting an element at a specific position\n",
        "fruits.insert(1, \"orange\")\n",
        "print(fruits)\n",
        "\n",
        "# Removing an element by value\n",
        "fruits.remove(\"orange\")\n",
        "print(fruits)\n"
      ]
    },
    {
      "cell_type": "code",
      "execution_count": 12,
      "metadata": {
        "colab": {
          "base_uri": "https://localhost:8080/"
        },
        "id": "3bD7Y7AvIRXI",
        "outputId": "1657328e-7d7a-4cd2-e89e-7e4e93c31585"
      },
      "outputs": [
        {
          "name": "stdout",
          "output_type": "stream",
          "text": [
            "blueberry\n",
            "['apple', 'orange', 'mango', 'grape']\n",
            "1\n"
          ]
        }
      ],
      "source": [
        "# Removing an element by index and getting the removed element\n",
        "removed_fruit = fruits.pop(1)\n",
        "print(removed_fruit)\n",
        "print(fruits)\n",
        "\n",
        "# Finding the index of an element\n",
        "index_of_orange = fruits.index(\"orange\")\n",
        "print(index_of_orange)"
      ]
    },
    {
      "cell_type": "code",
      "execution_count": 13,
      "metadata": {
        "colab": {
          "base_uri": "https://localhost:8080/"
        },
        "id": "FRh9AH3VHc9H",
        "outputId": "8cf4bd27-9ddf-47f8-e2f8-14dbfd04d994"
      },
      "outputs": [
        {
          "name": "stdout",
          "output_type": "stream",
          "text": [
            "1\n",
            "['grape', 'mango', 'orange', 'apple']\n",
            "['apple', 'banana', 'grape', 'mango', 'orange']\n",
            "['apple', 'banana', 'grape', 'mango', 'orange']\n",
            "[]\n"
          ]
        }
      ],
      "source": [
        "# Counting occurrences of an element\n",
        "count_of_mango = fruits.count(\"mango\")\n",
        "print(count_of_mango)\n",
        "\n",
        "# Reversing the list\n",
        "fruits.reverse()\n",
        "print(fruits)\n",
        "\n",
        "fruits.append(\"banana\")\n",
        "\n",
        "fruits.sort()\n",
        "print(fruits)\n",
        "\n",
        "# Copying a list\n",
        "fruits_copy = fruits.copy()\n",
        "print(fruits_copy)\n",
        "\n",
        "# Clearing all elements from the list\n",
        "fruits.clear()\n",
        "print(fruits)"
      ]
    },
    {
      "cell_type": "markdown",
      "metadata": {
        "id": "scoz8Uz5JGaa"
      },
      "source": [
        "**Tuples:**\n",
        "\n",
        "Description: Ordered, immutable collections of items. Once created, the elements in a tuple cannot be modified."
      ]
    },
    {
      "cell_type": "code",
      "execution_count": 14,
      "metadata": {
        "colab": {
          "base_uri": "https://localhost:8080/"
        },
        "id": "Rys8DGLDJNb7",
        "outputId": "64fca042-2a3f-42d9-d909-63051d2bc2f3"
      },
      "outputs": [
        {
          "name": "stdout",
          "output_type": "stream",
          "text": [
            "Alice\n"
          ]
        }
      ],
      "source": [
        "# Creating a tuple\n",
        "person = (\"Alice\", 30, \"Engineer\")\n",
        "\n",
        "# Accessing elements\n",
        "print(person[0])"
      ]
    },
    {
      "cell_type": "code",
      "execution_count": 15,
      "metadata": {
        "colab": {
          "base_uri": "https://localhost:8080/"
        },
        "id": "DsRQuQXkJdE9",
        "outputId": "e439df71-b80b-4a83-a955-6c71ac7bc2be"
      },
      "outputs": [
        {
          "name": "stdout",
          "output_type": "stream",
          "text": [
            "(30, 'Engineer')\n"
          ]
        }
      ],
      "source": [
        "# Slicing a tuple\n",
        "slice_of_person = person[1:3]\n",
        "print(slice_of_person)"
      ]
    },
    {
      "cell_type": "code",
      "execution_count": 16,
      "metadata": {
        "colab": {
          "base_uri": "https://localhost:8080/"
        },
        "id": "VZwArHffJdBf",
        "outputId": "3ed97547-52ef-4791-9239-e490bbd44da4"
      },
      "outputs": [
        {
          "name": "stdout",
          "output_type": "stream",
          "text": [
            "('Alice', 30, 'Engineer', 'Bob', 25, 'Artist')\n"
          ]
        }
      ],
      "source": [
        "# Concatenating tuples\n",
        "another_person = (\"Bob\", 25, \"Artist\")\n",
        "combined = person + another_person\n",
        "print(combined)"
      ]
    },
    {
      "cell_type": "code",
      "execution_count": 17,
      "metadata": {
        "colab": {
          "base_uri": "https://localhost:8080/"
        },
        "id": "Dns6kFP_Jc-p",
        "outputId": "029f4d8d-7eb4-4728-e8d7-1b7998220f32"
      },
      "outputs": [
        {
          "name": "stdout",
          "output_type": "stream",
          "text": [
            "2\n"
          ]
        }
      ],
      "source": [
        "# Finding the index of an element\n",
        "index_of_engineer = person.index(\"Engineer\")\n",
        "print(index_of_engineer)"
      ]
    },
    {
      "cell_type": "code",
      "execution_count": 18,
      "metadata": {
        "colab": {
          "base_uri": "https://localhost:8080/"
        },
        "id": "3FGtZOdGJc8G",
        "outputId": "6652c3d5-f2ad-494e-ddb2-acc851ab36af"
      },
      "outputs": [
        {
          "name": "stdout",
          "output_type": "stream",
          "text": [
            "['Alice', 30, 'Engineer']\n"
          ]
        }
      ],
      "source": [
        "# Converting a tuple to a list\n",
        "person_list = list(person)\n",
        "print(person_list)"
      ]
    },
    {
      "cell_type": "code",
      "execution_count": 19,
      "metadata": {
        "colab": {
          "base_uri": "https://localhost:8080/"
        },
        "id": "6Kw2QHZWKCi_",
        "outputId": "5039584c-6e83-452f-cb85-638ba9d30f76"
      },
      "outputs": [
        {
          "name": "stdout",
          "output_type": "stream",
          "text": [
            "(('Alice', 30), ('Bob', 25))\n",
            "('Alice', 30)\n",
            "30\n"
          ]
        }
      ],
      "source": [
        "nested_tuple = ((\"Alice\", 30), (\"Bob\", 25))\n",
        "print(nested_tuple)\n",
        "print(nested_tuple[0])\n",
        "print(nested_tuple[0][1])"
      ]
    },
    {
      "cell_type": "markdown",
      "metadata": {
        "id": "LofukqpSKL00"
      },
      "source": [
        "**Dictionaries:**\n",
        "\n",
        "Description: Unordered collections of key-value pairs. Each key must be unique, and values can be of any data type."
      ]
    },
    {
      "cell_type": "code",
      "execution_count": 21,
      "metadata": {
        "colab": {
          "base_uri": "https://localhost:8080/"
        },
        "id": "tCw_vMhEKSK9",
        "outputId": "ca9de36b-520a-46ef-f6d2-93adc8c9d645"
      },
      "outputs": [
        {
          "name": "stdout",
          "output_type": "stream",
          "text": [
            "Computer Science\n"
          ]
        }
      ],
      "source": [
        "# Creating a dictionary\n",
        "student = {\"name\": \"Alice\", \"age\": 20, \"major\": \"Computer Science\"}\n",
        "\n",
        "# Accessing values\n",
        "print(student[\"major\"])"
      ]
    },
    {
      "cell_type": "code",
      "execution_count": 22,
      "metadata": {
        "colab": {
          "base_uri": "https://localhost:8080/"
        },
        "id": "SVfAQ-edKqbU",
        "outputId": "a430f69b-6345-4b84-b605-422e0fd6efff"
      },
      "outputs": [
        {
          "name": "stdout",
          "output_type": "stream",
          "text": [
            "{'name': 'Alice', 'age': 20, 'major': 'Computer Science', 'year': 'Pre-final'}\n"
          ]
        }
      ],
      "source": [
        "# Adding or updating values\n",
        "student[\"year\"] = \"Pre-final\"\n",
        "print(student)"
      ]
    },
    {
      "cell_type": "code",
      "execution_count": 23,
      "metadata": {
        "colab": {
          "base_uri": "https://localhost:8080/"
        },
        "id": "vpFwgukfK0ku",
        "outputId": "aa6940ef-ed74-4bd6-b080-53ce00e3cb79"
      },
      "outputs": [
        {
          "name": "stdout",
          "output_type": "stream",
          "text": [
            "{'name': 'Alice', 'major': 'Computer Science', 'year': 'Pre-final'}\n"
          ]
        }
      ],
      "source": [
        "# Removing values\n",
        "del student[\"age\"]\n",
        "print(student)"
      ]
    },
    {
      "cell_type": "code",
      "execution_count": 24,
      "metadata": {
        "colab": {
          "base_uri": "https://localhost:8080/"
        },
        "id": "jqPDi0U4K1Fs",
        "outputId": "96a73fe6-c3b0-4fa2-ed70-b386b536bfc9"
      },
      "outputs": [
        {
          "name": "stdout",
          "output_type": "stream",
          "text": [
            "dict_keys(['name', 'major', 'year'])\n",
            "dict_values(['Alice', 'Computer Science', 'Pre-final'])\n"
          ]
        }
      ],
      "source": [
        "# Getting all keys\n",
        "keys = student.keys()\n",
        "print(keys)\n",
        "\n",
        "# Getting all values\n",
        "values = student.values()\n",
        "print(values)"
      ]
    },
    {
      "cell_type": "code",
      "execution_count": 28,
      "metadata": {
        "colab": {
          "base_uri": "https://localhost:8080/"
        },
        "id": "sXa9kuClLaK8",
        "outputId": "7a5793c0-cbe4-4c75-901e-c1dab6927762"
      },
      "outputs": [
        {
          "name": "stdout",
          "output_type": "stream",
          "text": [
            "name: Alice\n",
            "major: Computer Science\n",
            "year: Pre-final\n"
          ]
        }
      ],
      "source": [
        "# Iterating over dictionary\n",
        "for key, value in student.items():\n",
        "    print(f\"{key}: {value}\")"
      ]
    },
    {
      "cell_type": "code",
      "execution_count": 30,
      "metadata": {
        "colab": {
          "base_uri": "https://localhost:8080/"
        },
        "id": "tACHOuDaLeZm",
        "outputId": "f85c9439-4111-4064-c0eb-60a626020233"
      },
      "outputs": [
        {
          "name": "stdout",
          "output_type": "stream",
          "text": [
            "{'name': 'Alice', 'major': 'Computer Science', 'year': 'Pre-final', 'age': 19, 'graduation_year': 2026}\n"
          ]
        }
      ],
      "source": [
        "# Updating dictionary with another dictionary\n",
        "update_info = {\"age\": 19, \"graduation_year\": 2026}\n",
        "student.update(update_info)\n",
        "print(student)"
      ]
    },
    {
      "cell_type": "code",
      "execution_count": 31,
      "metadata": {
        "colab": {
          "base_uri": "https://localhost:8080/"
        },
        "id": "ipEwy5GdLzUQ",
        "outputId": "c9283ec7-1420-4cbb-a7bf-e951cfbf9ac0"
      },
      "outputs": [
        {
          "name": "stdout",
          "output_type": "stream",
          "text": [
            "('graduation_year', 2026)\n",
            "{'name': 'Alice', 'major': 'Computer Science', 'year': 'Pre-final', 'age': 19}\n"
          ]
        }
      ],
      "source": [
        "# Popping an item (key-value pair)\n",
        "popped_item = student.popitem()\n",
        "print(popped_item)\n",
        "print(student)"
      ]
    },
    {
      "cell_type": "markdown",
      "metadata": {
        "id": "8r-o2e2yMJqf"
      },
      "source": [
        "**Sets:**\n",
        "\n",
        "Description: Unordered collections of unique elements. Sets do not allow duplicate values and do not maintain any particular order."
      ]
    },
    {
      "cell_type": "code",
      "execution_count": 37,
      "metadata": {
        "colab": {
          "base_uri": "https://localhost:8080/"
        },
        "id": "oWL2EqCWMRy5",
        "outputId": "d9953e98-52f1-4127-83ea-edee5b59d229"
      },
      "outputs": [
        {
          "name": "stdout",
          "output_type": "stream",
          "text": [
            "{1, 2, 3, 4, 5, 6}\n",
            "{1, 3, 4, 5, 6}\n"
          ]
        }
      ],
      "source": [
        "# Creating a set\n",
        "numbers = {1, 2, 3, 4, 5}\n",
        "\n",
        "# Adding elements\n",
        "numbers.add(6)\n",
        "print(numbers)\n",
        "\n",
        "# Removing elements\n",
        "numbers.remove(2)\n",
        "print(numbers)"
      ]
    },
    {
      "cell_type": "code",
      "execution_count": 38,
      "metadata": {
        "colab": {
          "base_uri": "https://localhost:8080/"
        },
        "id": "h7oVcl8UMRvh",
        "outputId": "83786b53-90e1-4c6e-9a91-672b369ca642"
      },
      "outputs": [
        {
          "name": "stdout",
          "output_type": "stream",
          "text": [
            "{1, 3, 4, 5, 6}\n"
          ]
        }
      ],
      "source": [
        "# doesn't raise an error if the element is not found\n",
        "numbers.discard(10)\n",
        "print(numbers)"
      ]
    },
    {
      "cell_type": "code",
      "execution_count": 39,
      "metadata": {
        "colab": {
          "base_uri": "https://localhost:8080/"
        },
        "id": "rbnxhgMvMRtV",
        "outputId": "f04f316f-dba3-42db-d78a-58ad436b723d"
      },
      "outputs": [
        {
          "name": "stdout",
          "output_type": "stream",
          "text": [
            "1\n",
            "{3, 4, 5, 6}\n"
          ]
        }
      ],
      "source": [
        "# Removing an element with pop (removes and returns an arbitrary element)\n",
        "removed_element = numbers.pop()\n",
        "print(removed_element)\n",
        "print(numbers)"
      ]
    },
    {
      "cell_type": "code",
      "execution_count": 40,
      "metadata": {
        "colab": {
          "base_uri": "https://localhost:8080/"
        },
        "id": "CdcPTxPTNnbw",
        "outputId": "765bc53e-5870-4d00-b9d1-535f1abaefb5"
      },
      "outputs": [
        {
          "name": "stdout",
          "output_type": "stream",
          "text": [
            "True\n",
            "False\n"
          ]
        }
      ],
      "source": [
        "# Checking membership\n",
        "print(3 in numbers)\n",
        "print(2 in numbers)"
      ]
    },
    {
      "cell_type": "code",
      "execution_count": 41,
      "metadata": {
        "colab": {
          "base_uri": "https://localhost:8080/"
        },
        "id": "QIjiTSU8NwN7",
        "outputId": "ef0a4755-7485-440b-cc90-c880d4df1aff"
      },
      "outputs": [
        {
          "name": "stdout",
          "output_type": "stream",
          "text": [
            "{3, 4, 5, 6, 7, 8}\n",
            "{4, 5, 6}\n"
          ]
        }
      ],
      "source": [
        "# Union of two sets (combines elements from both sets)\n",
        "other_numbers = {4, 5, 6, 7, 8}\n",
        "union_set = numbers.union(other_numbers)\n",
        "print(union_set)\n",
        "\n",
        "# Intersection of two sets (common elements in both sets)\n",
        "intersection_set = numbers.intersection(other_numbers)\n",
        "print(intersection_set)"
      ]
    },
    {
      "cell_type": "code",
      "execution_count": 42,
      "metadata": {
        "colab": {
          "base_uri": "https://localhost:8080/"
        },
        "id": "yfudmrW5OCu2",
        "outputId": "68d90a99-9b8c-4748-951f-945bb52b0ce6"
      },
      "outputs": [
        {
          "name": "stdout",
          "output_type": "stream",
          "text": [
            "{3}\n"
          ]
        }
      ],
      "source": [
        "# Difference of two sets (elements in the first set but not in the second)\n",
        "difference_set = numbers.difference(other_numbers)\n",
        "print(difference_set)"
      ]
    },
    {
      "cell_type": "code",
      "execution_count": 43,
      "metadata": {
        "colab": {
          "base_uri": "https://localhost:8080/"
        },
        "id": "Kw6ZvCLuOF06",
        "outputId": "68e440db-3cac-401b-9753-b47b5bffcd3d"
      },
      "outputs": [
        {
          "name": "stdout",
          "output_type": "stream",
          "text": [
            "set()\n"
          ]
        }
      ],
      "source": [
        "# Clearing all elements from the set\n",
        "numbers.clear()\n",
        "print(numbers)"
      ]
    },
    {
      "cell_type": "code",
      "execution_count": 44,
      "metadata": {
        "colab": {
          "base_uri": "https://localhost:8080/"
        },
        "id": "QMf0yaRNOJk7",
        "outputId": "cefac918-87e2-43af-a996-4e21b6c636c3"
      },
      "outputs": [
        {
          "name": "stdout",
          "output_type": "stream",
          "text": [
            "{4, 5, 6, 7, 8}\n"
          ]
        }
      ],
      "source": [
        "# Copying a set\n",
        "copied_set = other_numbers.copy()\n",
        "print(copied_set)"
      ]
    }
  ],
  "metadata": {
    "colab": {
      "provenance": []
    },
    "kernelspec": {
      "display_name": "Python 3",
      "name": "python3"
    },
    "language_info": {
      "codemirror_mode": {
        "name": "ipython",
        "version": 3
      },
      "file_extension": ".py",
      "mimetype": "text/x-python",
      "name": "python",
      "nbconvert_exporter": "python",
      "pygments_lexer": "ipython3",
      "version": "3.12.6"
    }
  },
  "nbformat": 4,
  "nbformat_minor": 0
}
