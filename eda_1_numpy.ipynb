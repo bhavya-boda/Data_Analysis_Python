{
  "cells": [
    {
      "cell_type": "markdown",
      "metadata": {
        "id": "PHSFi05trJxP"
      },
      "source": [
        "# EDA ( Exploratory Data Analysis )\n",
        "# Numpy"
      ]
    },
    {
      "cell_type": "markdown",
      "metadata": {
        "id": "-cXRGO1erJxS"
      },
      "source": [
        "* ## Install Numpy"
      ]
    },
    {
      "cell_type": "code",
      "execution_count": 1,
      "metadata": {
        "execution": {
          "iopub.execute_input": "2024-02-16T09:11:50.695803Z",
          "iopub.status.busy": "2024-02-16T09:11:50.695222Z",
          "iopub.status.idle": "2024-02-16T09:12:07.740803Z",
          "shell.execute_reply": "2024-02-16T09:12:07.739330Z",
          "shell.execute_reply.started": "2024-02-16T09:11:50.695755Z"
        },
        "id": "wTEKzDr9rJxS",
        "outputId": "091d67f0-f0ed-4bdd-d27c-785e6b30fd09",
        "trusted": true
      },
      "outputs": [
        {
          "name": "stdout",
          "output_type": "stream",
          "text": [
            "Collecting numpyNote: you may need to restart the kernel to use updated packages.\n",
            "\n",
            "  Downloading numpy-2.1.1-cp312-cp312-win_amd64.whl.metadata (59 kB)\n",
            "Downloading numpy-2.1.1-cp312-cp312-win_amd64.whl (12.6 MB)\n",
            "   ---------------------------------------- 0.0/12.6 MB ? eta -:--:--\n",
            "   - -------------------------------------- 0.5/12.6 MB 4.2 MB/s eta 0:00:03\n",
            "   -- ------------------------------------- 0.8/12.6 MB 2.2 MB/s eta 0:00:06\n",
            "   ---- ----------------------------------- 1.3/12.6 MB 2.5 MB/s eta 0:00:05\n",
            "   ----- ---------------------------------- 1.8/12.6 MB 2.6 MB/s eta 0:00:05\n",
            "   ------- -------------------------------- 2.4/12.6 MB 2.6 MB/s eta 0:00:04\n",
            "   --------- ------------------------------ 2.9/12.6 MB 2.5 MB/s eta 0:00:04\n",
            "   ---------- ----------------------------- 3.4/12.6 MB 2.5 MB/s eta 0:00:04\n",
            "   ------------ --------------------------- 3.9/12.6 MB 2.5 MB/s eta 0:00:04\n",
            "   --------------- ------------------------ 4.7/12.6 MB 2.5 MB/s eta 0:00:04\n",
            "   ---------------- ----------------------- 5.2/12.6 MB 2.6 MB/s eta 0:00:03\n",
            "   ------------------- -------------------- 6.0/12.6 MB 2.7 MB/s eta 0:00:03\n",
            "   -------------------- ------------------- 6.6/12.6 MB 2.7 MB/s eta 0:00:03\n",
            "   ----------------------- ---------------- 7.3/12.6 MB 2.7 MB/s eta 0:00:02\n",
            "   ------------------------- -------------- 8.1/12.6 MB 2.8 MB/s eta 0:00:02\n",
            "   ---------------------------- ----------- 8.9/12.6 MB 2.9 MB/s eta 0:00:02\n",
            "   ------------------------------ --------- 9.4/12.6 MB 2.9 MB/s eta 0:00:02\n",
            "   ------------------------------ --------- 9.7/12.6 MB 2.9 MB/s eta 0:00:02\n",
            "   ------------------------------- -------- 10.0/12.6 MB 2.8 MB/s eta 0:00:01\n",
            "   --------------------------------- ------ 10.5/12.6 MB 2.7 MB/s eta 0:00:01\n",
            "   ---------------------------------- ----- 10.7/12.6 MB 2.6 MB/s eta 0:00:01\n",
            "   ----------------------------------- ---- 11.3/12.6 MB 2.6 MB/s eta 0:00:01\n",
            "   ------------------------------------- -- 11.8/12.6 MB 2.6 MB/s eta 0:00:01\n",
            "   ---------------------------------------  12.3/12.6 MB 2.6 MB/s eta 0:00:01\n",
            "   ---------------------------------------- 12.6/12.6 MB 2.5 MB/s eta 0:00:00\n",
            "Installing collected packages: numpy\n",
            "Successfully installed numpy-2.1.1\n"
          ]
        },
        {
          "name": "stderr",
          "output_type": "stream",
          "text": [
            "  WARNING: The scripts f2py.exe and numpy-config.exe are installed in 'c:\\Users\\bodab\\AppData\\Local\\Programs\\Python\\Python312\\Scripts' which is not on PATH.\n",
            "  Consider adding this directory to PATH or, if you prefer to suppress this warning, use --no-warn-script-location.\n"
          ]
        }
      ],
      "source": [
        "pip install numpy"
      ]
    },
    {
      "cell_type": "markdown",
      "metadata": {
        "id": "Vndxutp5rJxU"
      },
      "source": [
        "* ## Creating Arrays"
      ]
    },
    {
      "cell_type": "code",
      "execution_count": 2,
      "metadata": {
        "_cell_guid": "b1076dfc-b9ad-4769-8c92-a6c4dae69d19",
        "_uuid": "8f2839f25d086af736a60e9eeb907d3b93b6e0e5",
        "execution": {
          "iopub.execute_input": "2024-02-16T09:12:07.744190Z",
          "iopub.status.busy": "2024-02-16T09:12:07.743683Z",
          "iopub.status.idle": "2024-02-16T09:12:07.751034Z",
          "shell.execute_reply": "2024-02-16T09:12:07.749607Z",
          "shell.execute_reply.started": "2024-02-16T09:12:07.744153Z"
        },
        "id": "m7A5EzJnrJxV",
        "trusted": true
      },
      "outputs": [],
      "source": [
        "import numpy as np"
      ]
    },
    {
      "cell_type": "markdown",
      "metadata": {
        "id": "daH6-pjurJxV"
      },
      "source": [
        "* ### np.array()"
      ]
    },
    {
      "cell_type": "code",
      "execution_count": 3,
      "metadata": {
        "execution": {
          "iopub.execute_input": "2024-02-16T09:12:07.753014Z",
          "iopub.status.busy": "2024-02-16T09:12:07.752675Z",
          "iopub.status.idle": "2024-02-16T09:12:07.767253Z",
          "shell.execute_reply": "2024-02-16T09:12:07.765796Z",
          "shell.execute_reply.started": "2024-02-16T09:12:07.752984Z"
        },
        "id": "juQdQkiLrJxV",
        "outputId": "e2fa0b30-ef8e-4b51-bfe4-40dac4278d22",
        "trusted": true
      },
      "outputs": [
        {
          "name": "stdout",
          "output_type": "stream",
          "text": [
            "Array created using np.array(): [1 2 3 4 5]\n"
          ]
        }
      ],
      "source": [
        "arr1 = np.array([1, 2, 3, 4, 5])\n",
        "print(\"Array created using np.array():\", arr1)"
      ]
    },
    {
      "cell_type": "markdown",
      "metadata": {
        "id": "nxX-Edj8rJxW"
      },
      "source": [
        "* ### np.zeros()\n",
        "np.zeros() is a NumPy function used to create an array filled with zeros. The function takes the desired shape of the array as input and returns an array of that shape filled with zeros."
      ]
    },
    {
      "cell_type": "code",
      "execution_count": 5,
      "metadata": {
        "execution": {
          "iopub.execute_input": "2024-02-16T09:12:07.771507Z",
          "iopub.status.busy": "2024-02-16T09:12:07.771017Z",
          "iopub.status.idle": "2024-02-16T09:12:07.779346Z",
          "shell.execute_reply": "2024-02-16T09:12:07.777923Z",
          "shell.execute_reply.started": "2024-02-16T09:12:07.771472Z"
        },
        "id": "25sz_1iNrJxW",
        "outputId": "1034ce6a-244d-48e6-a5b4-dffb302b746e",
        "trusted": true
      },
      "outputs": [
        {
          "name": "stdout",
          "output_type": "stream",
          "text": [
            "Array filled with zeros:\n",
            "[[0. 0. 0. 0.]\n",
            " [0. 0. 0. 0.]\n",
            " [0. 0. 0. 0.]]\n"
          ]
        }
      ],
      "source": [
        "zeros_array = np.zeros((3, 4))\n",
        "\n",
        "print(\"Array filled with zeros:\")\n",
        "print(zeros_array)"
      ]
    },
    {
      "cell_type": "markdown",
      "metadata": {
        "id": "MjKM84ZkrJxX"
      },
      "source": [
        "* ### np.ones()\n",
        "np.ones() is a NumPy function used to create an array filled with ones."
      ]
    },
    {
      "cell_type": "code",
      "execution_count": 6,
      "metadata": {
        "execution": {
          "iopub.execute_input": "2024-02-16T09:12:07.781586Z",
          "iopub.status.busy": "2024-02-16T09:12:07.781256Z",
          "iopub.status.idle": "2024-02-16T09:12:07.791456Z",
          "shell.execute_reply": "2024-02-16T09:12:07.790467Z",
          "shell.execute_reply.started": "2024-02-16T09:12:07.781559Z"
        },
        "id": "GKL69fVLrJxX",
        "outputId": "69064f93-4a19-4837-b5f1-0303a694029b",
        "trusted": true
      },
      "outputs": [
        {
          "name": "stdout",
          "output_type": "stream",
          "text": [
            "Array filled with ones:\n",
            "[[1. 1.]\n",
            " [1. 1.]\n",
            " [1. 1.]]\n"
          ]
        }
      ],
      "source": [
        "ones_array = np.ones((3, 2))\n",
        "\n",
        "print(\"Array filled with ones:\")\n",
        "print(ones_array)"
      ]
    },
    {
      "cell_type": "markdown",
      "metadata": {
        "id": "tAPau7XbrJxX"
      },
      "source": [
        "* ### np.arange(start, stop, step)\n",
        "Create an array with a range of values.\n",
        "\n"
      ]
    },
    {
      "cell_type": "code",
      "execution_count": 9,
      "metadata": {
        "execution": {
          "iopub.execute_input": "2024-02-16T09:12:07.793374Z",
          "iopub.status.busy": "2024-02-16T09:12:07.793041Z",
          "iopub.status.idle": "2024-02-16T09:12:07.801553Z",
          "shell.execute_reply": "2024-02-16T09:12:07.800649Z",
          "shell.execute_reply.started": "2024-02-16T09:12:07.793346Z"
        },
        "id": "irjC73w3rJxX",
        "outputId": "f7f4b2dc-c690-4ef2-b45c-90668c075535",
        "trusted": true
      },
      "outputs": [
        {
          "name": "stdout",
          "output_type": "stream",
          "text": [
            "Custom array using np.arange(5, 21, 3):\n",
            "[ 5  8 11 14 17]\n"
          ]
        }
      ],
      "source": [
        "arr_custom = np.arange(5, 20, 3)\n",
        "\n",
        "print(\"Custom array using np.arange(5, 21, 3):\")\n",
        "print(arr_custom)"
      ]
    },
    {
      "cell_type": "markdown",
      "metadata": {
        "id": "Cbr3u6sQrJxY"
      },
      "source": [
        "* ### np.linspace(start, stop, num=50, endpoint=True, retstep=False, dtype=None)\n",
        "Create an array of evenly spaced values over a specified interval."
      ]
    },
    {
      "cell_type": "code",
      "execution_count": 11,
      "metadata": {
        "execution": {
          "iopub.execute_input": "2024-02-16T09:12:07.803629Z",
          "iopub.status.busy": "2024-02-16T09:12:07.802913Z",
          "iopub.status.idle": "2024-02-16T09:12:07.815210Z",
          "shell.execute_reply": "2024-02-16T09:12:07.813870Z",
          "shell.execute_reply.started": "2024-02-16T09:12:07.803599Z"
        },
        "id": "dNYLfRpZrJxY",
        "outputId": "d529e7e6-9781-47cc-811d-a023c6875b39",
        "trusted": true
      },
      "outputs": [
        {
          "name": "stdout",
          "output_type": "stream",
          "text": [
            "Array using np.linspace(0, 1, num=10):\n",
            "[0.  0.1 0.2 0.3 0.4 0.5 0.6 0.7 0.8 0.9 1. ]\n"
          ]
        }
      ],
      "source": [
        "arr = np.linspace(0, 1, num=11)\n",
        "\n",
        "print(\"Array using np.linspace(0, 1, num=10):\")\n",
        "print(arr)"
      ]
    },
    {
      "cell_type": "markdown",
      "metadata": {
        "id": "NLjqd4LZrJxY"
      },
      "source": [
        "* ## Array Operations\n",
        "* np.sum(): Compute the sum of array elements.\n",
        "* np.mean(): Compute the mean of array elements.\n",
        "* np.max(): Find the maximum value in an array.\n",
        "* np.min(): Find the minimum value in an array.\n",
        "* np.std(): Compute the standard deviation of array elements."
      ]
    },
    {
      "cell_type": "code",
      "execution_count": 12,
      "metadata": {
        "execution": {
          "iopub.execute_input": "2024-02-16T09:12:07.817532Z",
          "iopub.status.busy": "2024-02-16T09:12:07.817136Z",
          "iopub.status.idle": "2024-02-16T09:12:07.827206Z",
          "shell.execute_reply": "2024-02-16T09:12:07.825990Z",
          "shell.execute_reply.started": "2024-02-16T09:12:07.817504Z"
        },
        "id": "lSFJAz4trJxY",
        "trusted": true
      },
      "outputs": [],
      "source": [
        "arr1 = np.array([1, 2, 3, 4, 5])"
      ]
    },
    {
      "cell_type": "code",
      "execution_count": 13,
      "metadata": {
        "execution": {
          "iopub.execute_input": "2024-02-16T09:12:07.829502Z",
          "iopub.status.busy": "2024-02-16T09:12:07.829174Z",
          "iopub.status.idle": "2024-02-16T09:12:07.842843Z",
          "shell.execute_reply": "2024-02-16T09:12:07.842079Z",
          "shell.execute_reply.started": "2024-02-16T09:12:07.829476Z"
        },
        "id": "lYAbntierJxY",
        "outputId": "7f258007-3fb7-4f3c-df17-e2efdff49811",
        "trusted": true
      },
      "outputs": [
        {
          "name": "stdout",
          "output_type": "stream",
          "text": [
            "Sum of array elements: 15\n"
          ]
        }
      ],
      "source": [
        "total = np.sum(arr1)\n",
        "print(\"Sum of array elements:\", total)"
      ]
    },
    {
      "cell_type": "code",
      "execution_count": 14,
      "metadata": {
        "execution": {
          "iopub.execute_input": "2024-02-16T09:12:07.848048Z",
          "iopub.status.busy": "2024-02-16T09:12:07.846722Z",
          "iopub.status.idle": "2024-02-16T09:12:07.855064Z",
          "shell.execute_reply": "2024-02-16T09:12:07.853966Z",
          "shell.execute_reply.started": "2024-02-16T09:12:07.847998Z"
        },
        "id": "wbHfxY1UrJxZ",
        "outputId": "331e452f-e528-4033-88d8-17564d1ea71b",
        "trusted": true
      },
      "outputs": [
        {
          "name": "stdout",
          "output_type": "stream",
          "text": [
            "Mean of array elements: 3.0\n"
          ]
        }
      ],
      "source": [
        "print(\"Mean of array elements:\", np.mean(arr1))"
      ]
    },
    {
      "cell_type": "code",
      "execution_count": 15,
      "metadata": {
        "execution": {
          "iopub.execute_input": "2024-02-16T09:12:07.857094Z",
          "iopub.status.busy": "2024-02-16T09:12:07.856723Z",
          "iopub.status.idle": "2024-02-16T09:12:07.867475Z",
          "shell.execute_reply": "2024-02-16T09:12:07.866323Z",
          "shell.execute_reply.started": "2024-02-16T09:12:07.857063Z"
        },
        "id": "2d9tseEmrJxZ",
        "outputId": "4cd3c29c-65a8-4a33-cf0f-00a706cb0a6b",
        "trusted": true
      },
      "outputs": [
        {
          "name": "stdout",
          "output_type": "stream",
          "text": [
            "Max of array elements: 5\n"
          ]
        }
      ],
      "source": [
        "print(\"Max of array elements:\", np.max(arr1))"
      ]
    },
    {
      "cell_type": "code",
      "execution_count": 16,
      "metadata": {
        "execution": {
          "iopub.execute_input": "2024-02-16T09:12:07.869583Z",
          "iopub.status.busy": "2024-02-16T09:12:07.869129Z",
          "iopub.status.idle": "2024-02-16T09:12:07.878126Z",
          "shell.execute_reply": "2024-02-16T09:12:07.876814Z",
          "shell.execute_reply.started": "2024-02-16T09:12:07.869540Z"
        },
        "id": "Ij2GX0B-rJxZ",
        "outputId": "28aad531-a533-4226-be12-9bc952c0a1c6",
        "trusted": true
      },
      "outputs": [
        {
          "name": "stdout",
          "output_type": "stream",
          "text": [
            "Min of array elements: 1\n"
          ]
        }
      ],
      "source": [
        "print(\"Min of array elements:\", np.min(arr1))"
      ]
    },
    {
      "cell_type": "code",
      "execution_count": 17,
      "metadata": {
        "execution": {
          "iopub.execute_input": "2024-02-16T09:12:07.880191Z",
          "iopub.status.busy": "2024-02-16T09:12:07.879510Z",
          "iopub.status.idle": "2024-02-16T09:12:07.891029Z",
          "shell.execute_reply": "2024-02-16T09:12:07.890017Z",
          "shell.execute_reply.started": "2024-02-16T09:12:07.880159Z"
        },
        "id": "h7iZecFhrJxZ",
        "outputId": "f0e2f493-408f-4de0-ae36-abe19f34c674",
        "trusted": true
      },
      "outputs": [
        {
          "name": "stdout",
          "output_type": "stream",
          "text": [
            "Standard Deviation of array elements: 1.4142135623730951\n"
          ]
        }
      ],
      "source": [
        "print(\"Standard Deviation of array elements:\", np.std(arr1))"
      ]
    },
    {
      "cell_type": "markdown",
      "metadata": {
        "id": "oWX8XxscrJxZ"
      },
      "source": [
        "* ## Array Manipulation"
      ]
    },
    {
      "cell_type": "markdown",
      "metadata": {
        "id": "Y-4nfRRvrJxZ"
      },
      "source": [
        "* ### np.reshape()\n",
        "Reshape an array.\n"
      ]
    },
    {
      "cell_type": "code",
      "execution_count": 18,
      "metadata": {
        "execution": {
          "iopub.execute_input": "2024-02-16T09:12:07.893815Z",
          "iopub.status.busy": "2024-02-16T09:12:07.892405Z",
          "iopub.status.idle": "2024-02-16T09:12:07.902198Z",
          "shell.execute_reply": "2024-02-16T09:12:07.901346Z",
          "shell.execute_reply.started": "2024-02-16T09:12:07.893763Z"
        },
        "id": "0gTxBHD8rJxZ",
        "trusted": true
      },
      "outputs": [],
      "source": [
        "arr1 = np.array([1, 2, 3, 4, 5, 6])"
      ]
    },
    {
      "cell_type": "code",
      "execution_count": 21,
      "metadata": {
        "execution": {
          "iopub.execute_input": "2024-02-16T09:12:07.903672Z",
          "iopub.status.busy": "2024-02-16T09:12:07.903316Z",
          "iopub.status.idle": "2024-02-16T09:12:07.915334Z",
          "shell.execute_reply": "2024-02-16T09:12:07.914108Z",
          "shell.execute_reply.started": "2024-02-16T09:12:07.903645Z"
        },
        "id": "4F7MrAY7rJxZ",
        "outputId": "a7e9549b-4c6b-4fc3-c755-20fe7c879b19",
        "trusted": true
      },
      "outputs": [
        {
          "name": "stdout",
          "output_type": "stream",
          "text": [
            "[[1 2]\n",
            " [3 4]\n",
            " [5 6]]\n"
          ]
        }
      ],
      "source": [
        "# The product of 2 numbers should be equal to the array size, otherwise it will give error\n",
        "reshaped_arr = np.reshape(arr1, (3, 2))\n",
        "print(reshaped_arr)"
      ]
    },
    {
      "cell_type": "markdown",
      "metadata": {
        "id": "P88C9VearJxZ"
      },
      "source": [
        "* ### np.transpose()\n",
        "Transpose an array."
      ]
    },
    {
      "cell_type": "code",
      "execution_count": 22,
      "metadata": {
        "execution": {
          "iopub.execute_input": "2024-02-16T09:12:07.917385Z",
          "iopub.status.busy": "2024-02-16T09:12:07.916705Z",
          "iopub.status.idle": "2024-02-16T09:12:07.928046Z",
          "shell.execute_reply": "2024-02-16T09:12:07.926639Z",
          "shell.execute_reply.started": "2024-02-16T09:12:07.917354Z"
        },
        "id": "KWR4guD1rJxa",
        "trusted": true
      },
      "outputs": [],
      "source": [
        "arr2 = np.array([[1, 2, 3],\n",
        "                 [4, 5, 6]])"
      ]
    },
    {
      "cell_type": "code",
      "execution_count": 23,
      "metadata": {
        "execution": {
          "iopub.execute_input": "2024-02-16T09:12:07.932049Z",
          "iopub.status.busy": "2024-02-16T09:12:07.931000Z",
          "iopub.status.idle": "2024-02-16T09:12:07.944072Z",
          "shell.execute_reply": "2024-02-16T09:12:07.942744Z",
          "shell.execute_reply.started": "2024-02-16T09:12:07.932004Z"
        },
        "id": "cHIVOgjvrJxa",
        "outputId": "cec7a535-8d14-43d3-809d-b56bf7a88767",
        "trusted": true
      },
      "outputs": [
        {
          "data": {
            "text/plain": [
              "array([[1, 4],\n",
              "       [2, 5],\n",
              "       [3, 6]])"
            ]
          },
          "execution_count": 23,
          "metadata": {},
          "output_type": "execute_result"
        }
      ],
      "source": [
        "np.transpose(arr2)"
      ]
    },
    {
      "cell_type": "markdown",
      "metadata": {
        "id": "9Igm79xlrJxa"
      },
      "source": [
        "* ### np.concatenate()\n",
        "Concatenate arrays along a specified axis."
      ]
    },
    {
      "cell_type": "code",
      "execution_count": 31,
      "metadata": {
        "execution": {
          "iopub.execute_input": "2024-02-16T09:12:07.947291Z",
          "iopub.status.busy": "2024-02-16T09:12:07.946203Z",
          "iopub.status.idle": "2024-02-16T09:12:07.957580Z",
          "shell.execute_reply": "2024-02-16T09:12:07.956092Z",
          "shell.execute_reply.started": "2024-02-16T09:12:07.947249Z"
        },
        "id": "9Gxwl2sPrJxa",
        "outputId": "aeecda48-eb4c-49e6-da40-dc73defa69e3",
        "trusted": true
      },
      "outputs": [
        {
          "name": "stdout",
          "output_type": "stream",
          "text": [
            "Array 1:\n",
            "[[1 2]\n",
            " [3 4]]\n",
            "\n",
            "Array 2:\n",
            "[[5 6]]\n",
            "\n",
            "Concatenated array along axis 0 (rows):\n",
            "[[1 2]\n",
            " [3 4]\n",
            " [5 6]]\n"
          ]
        }
      ],
      "source": [
        "arr1 = np.array([[1, 2], [3, 4]])\n",
        "arr2 = np.array([[5, 6]])\n",
        "\n",
        "concatenated_arr = np.concatenate((arr1, arr2), axis=0)\n",
        "\n",
        "print(\"Array 1:\")\n",
        "print(arr1)\n",
        "print(\"\\nArray 2:\")\n",
        "print(arr2)\n",
        "print(\"\\nConcatenated array along axis 0 (rows):\")\n",
        "print(concatenated_arr)"
      ]
    },
    {
      "cell_type": "markdown",
      "metadata": {
        "id": "6wKzschrrJxa"
      },
      "source": [
        "* ### np.split()\n",
        "Split an array into multiple sub-arrays."
      ]
    },
    {
      "cell_type": "code",
      "execution_count": 35,
      "metadata": {
        "execution": {
          "iopub.execute_input": "2024-02-16T09:12:07.959474Z",
          "iopub.status.busy": "2024-02-16T09:12:07.959051Z",
          "iopub.status.idle": "2024-02-16T09:12:07.968770Z",
          "shell.execute_reply": "2024-02-16T09:12:07.967819Z",
          "shell.execute_reply.started": "2024-02-16T09:12:07.959369Z"
        },
        "id": "71CGNVl7rJxa",
        "trusted": true
      },
      "outputs": [],
      "source": [
        "arr = np.array([1, 2, 3, 4, 5, 6, 7, 8, 9, 10])\n",
        "# 2nd parameter should be factor of array size\n",
        "sub_arrays = np.split(arr, 2)"
      ]
    },
    {
      "cell_type": "code",
      "execution_count": 36,
      "metadata": {
        "execution": {
          "iopub.execute_input": "2024-02-16T09:12:07.971642Z",
          "iopub.status.busy": "2024-02-16T09:12:07.970305Z",
          "iopub.status.idle": "2024-02-16T09:12:07.983995Z",
          "shell.execute_reply": "2024-02-16T09:12:07.982765Z",
          "shell.execute_reply.started": "2024-02-16T09:12:07.971598Z"
        },
        "id": "2O8jIXiorJxa",
        "outputId": "cf80df0e-eed1-4bc3-ac15-7c476007d65f",
        "trusted": true
      },
      "outputs": [
        {
          "data": {
            "text/plain": [
              "[array([1, 2, 3, 4, 5]), array([ 6,  7,  8,  9, 10])]"
            ]
          },
          "execution_count": 36,
          "metadata": {},
          "output_type": "execute_result"
        }
      ],
      "source": [
        "sub_arrays"
      ]
    },
    {
      "cell_type": "markdown",
      "metadata": {
        "id": "6HgbXg9_rJxa"
      },
      "source": [
        "* ## Mathematical Functions\n",
        "* np.sin(), np.cos(), np.tan(): Trigonometric functions.\n",
        "* np.exp(): Exponential function.\n",
        "* np.log(), np.log10(), np.log2(): Logarithmic functions.\n",
        "* np.sqrt(): Square root function.\n",
        "* np.absolute(): Absolute value function."
      ]
    },
    {
      "cell_type": "code",
      "execution_count": 37,
      "metadata": {
        "execution": {
          "iopub.execute_input": "2024-02-16T09:12:07.985842Z",
          "iopub.status.busy": "2024-02-16T09:12:07.985503Z",
          "iopub.status.idle": "2024-02-16T09:12:07.995523Z",
          "shell.execute_reply": "2024-02-16T09:12:07.994025Z",
          "shell.execute_reply.started": "2024-02-16T09:12:07.985812Z"
        },
        "id": "bQKjktowrJxa",
        "trusted": true
      },
      "outputs": [],
      "source": [
        "angles = np.array([0, np.pi/4, np.pi/2, np.pi])"
      ]
    },
    {
      "cell_type": "code",
      "execution_count": 38,
      "metadata": {
        "execution": {
          "iopub.execute_input": "2024-02-16T09:12:07.998052Z",
          "iopub.status.busy": "2024-02-16T09:12:07.997416Z",
          "iopub.status.idle": "2024-02-16T09:12:08.012267Z",
          "shell.execute_reply": "2024-02-16T09:12:08.010994Z",
          "shell.execute_reply.started": "2024-02-16T09:12:07.998019Z"
        },
        "id": "U1l_ayiUrJxa",
        "outputId": "ea29d331-12fb-4a9b-dfff-5c4b63e08808",
        "trusted": true
      },
      "outputs": [
        {
          "name": "stdout",
          "output_type": "stream",
          "text": [
            "Angles (in radians): [0.         0.78539816 1.57079633 3.14159265]\n",
            "Sine values: [0.00000000e+00 7.07106781e-01 1.00000000e+00 1.22464680e-16]\n",
            "Cosine values: [ 1.00000000e+00  7.07106781e-01  6.12323400e-17 -1.00000000e+00]\n",
            "Tangent values: [ 0.00000000e+00  1.00000000e+00  1.63312394e+16 -1.22464680e-16]\n"
          ]
        }
      ],
      "source": [
        "sin_values = np.sin(angles)\n",
        "cos_values = np.cos(angles)\n",
        "tan_values = np.tan(angles)\n",
        "\n",
        "print(\"Angles (in radians):\", angles)\n",
        "print(\"Sine values:\", sin_values)\n",
        "print(\"Cosine values:\", cos_values)\n",
        "print(\"Tangent values:\", tan_values)"
      ]
    },
    {
      "cell_type": "markdown",
      "metadata": {
        "id": "eEjYM4Z0rJxb"
      },
      "source": [
        "* ### np.exp()"
      ]
    },
    {
      "cell_type": "code",
      "execution_count": 39,
      "metadata": {
        "execution": {
          "iopub.execute_input": "2024-02-16T09:12:08.015066Z",
          "iopub.status.busy": "2024-02-16T09:12:08.014037Z",
          "iopub.status.idle": "2024-02-16T09:12:08.024653Z",
          "shell.execute_reply": "2024-02-16T09:12:08.023470Z",
          "shell.execute_reply.started": "2024-02-16T09:12:08.015035Z"
        },
        "id": "AFhfq-vzrJxb",
        "outputId": "b96e2c7d-74bd-440b-8b49-5790e3f84124",
        "trusted": true
      },
      "outputs": [
        {
          "name": "stdout",
          "output_type": "stream",
          "text": [
            "Original array: [1 2 3 4]\n",
            "Exponential values: [ 2.71828183  7.3890561  20.08553692 54.59815003]\n"
          ]
        }
      ],
      "source": [
        "x = np.array([1, 2, 3, 4])\n",
        "\n",
        "exp_values = np.exp(x)\n",
        "\n",
        "print(\"Original array:\", x)\n",
        "print(\"Exponential values:\", exp_values)"
      ]
    },
    {
      "cell_type": "markdown",
      "metadata": {
        "id": "7d1aWHg2rJxh"
      },
      "source": [
        "* ### np.log(), np.log10(), np.log2()"
      ]
    },
    {
      "cell_type": "code",
      "execution_count": 41,
      "metadata": {
        "execution": {
          "iopub.execute_input": "2024-02-16T09:12:08.027411Z",
          "iopub.status.busy": "2024-02-16T09:12:08.026147Z",
          "iopub.status.idle": "2024-02-16T09:12:08.037782Z",
          "shell.execute_reply": "2024-02-16T09:12:08.036704Z",
          "shell.execute_reply.started": "2024-02-16T09:12:08.027289Z"
        },
        "id": "BOOVc6jkrJxh",
        "outputId": "b3f810b2-3bb7-4139-a159-b2a7bde0233a",
        "trusted": true
      },
      "outputs": [
        {
          "name": "stdout",
          "output_type": "stream",
          "text": [
            "Original array: [  1  10 100]\n",
            "Natural logarithm (base e): [0.         2.30258509 4.60517019]\n",
            "Base-10 logarithm: [0. 1. 2.]\n",
            "Base-2 logarithm: [0.         3.32192809 6.64385619]\n"
          ]
        }
      ],
      "source": [
        "x = np.array([1, 10, 100])\n",
        "\n",
        "log_values = np.log(x)\n",
        "log10_values = np.log10(x)\n",
        "log2_values = np.log2(x)\n",
        "\n",
        "print(\"Original array:\", x)\n",
        "print(\"Natural logarithm (base e):\", log_values)\n",
        "print(\"Base-10 logarithm:\", log10_values)\n",
        "print(\"Base-2 logarithm:\", log2_values)"
      ]
    },
    {
      "cell_type": "markdown",
      "metadata": {
        "id": "j7MBtyQDrJxh"
      },
      "source": [
        "* ### np.sqrt()"
      ]
    },
    {
      "cell_type": "code",
      "execution_count": 42,
      "metadata": {
        "execution": {
          "iopub.execute_input": "2024-02-16T09:12:08.042535Z",
          "iopub.status.busy": "2024-02-16T09:12:08.041498Z",
          "iopub.status.idle": "2024-02-16T09:12:08.052307Z",
          "shell.execute_reply": "2024-02-16T09:12:08.050978Z",
          "shell.execute_reply.started": "2024-02-16T09:12:08.042496Z"
        },
        "id": "49qWpy_rrJxi",
        "outputId": "eb021f30-4e18-44f6-e0dd-ab03c8efec53",
        "trusted": true
      },
      "outputs": [
        {
          "name": "stdout",
          "output_type": "stream",
          "text": [
            "Original array: [ 4  9 16 25]\n",
            "Square root values: [2. 3. 4. 5.]\n"
          ]
        }
      ],
      "source": [
        "x = np.array([4, 9, 16, 25])\n",
        "\n",
        "sqrt_values = np.sqrt(x)\n",
        "\n",
        "print(\"Original array:\", x)\n",
        "print(\"Square root values:\", sqrt_values)"
      ]
    },
    {
      "cell_type": "markdown",
      "metadata": {
        "id": "2XyhSum_rJxi"
      },
      "source": [
        "* ### np.absolute()"
      ]
    },
    {
      "cell_type": "code",
      "execution_count": 43,
      "metadata": {
        "execution": {
          "iopub.execute_input": "2024-02-16T09:12:08.054070Z",
          "iopub.status.busy": "2024-02-16T09:12:08.053598Z",
          "iopub.status.idle": "2024-02-16T09:12:08.064421Z",
          "shell.execute_reply": "2024-02-16T09:12:08.063402Z",
          "shell.execute_reply.started": "2024-02-16T09:12:08.054034Z"
        },
        "id": "Lzu5XSiLrJxi",
        "outputId": "1534b12d-3ce6-4cbe-c2a6-e90d039401f4",
        "trusted": true
      },
      "outputs": [
        {
          "name": "stdout",
          "output_type": "stream",
          "text": [
            "Original array: [-2 -1  0  1  2]\n",
            "Absolute values: [2 1 0 1 2]\n"
          ]
        }
      ],
      "source": [
        "x = np.array([-2, -1, 0, 1, 2])\n",
        "\n",
        "absolute_values = np.absolute(x)\n",
        "\n",
        "print(\"Original array:\", x)\n",
        "print(\"Absolute values:\", absolute_values)"
      ]
    }
  ],
  "metadata": {
    "colab": {
      "provenance": []
    },
    "kaggle": {
      "accelerator": "none",
      "dataSources": [],
      "dockerImageVersionId": 30646,
      "isGpuEnabled": false,
      "isInternetEnabled": true,
      "language": "python",
      "sourceType": "notebook"
    },
    "kernelspec": {
      "display_name": "Python 3",
      "language": "python",
      "name": "python3"
    },
    "language_info": {
      "codemirror_mode": {
        "name": "ipython",
        "version": 3
      },
      "file_extension": ".py",
      "mimetype": "text/x-python",
      "name": "python",
      "nbconvert_exporter": "python",
      "pygments_lexer": "ipython3",
      "version": "3.12.6"
    }
  },
  "nbformat": 4,
  "nbformat_minor": 0
}
